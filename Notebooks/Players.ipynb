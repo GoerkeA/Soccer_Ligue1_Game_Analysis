{
 "cells": [
  {
   "cell_type": "code",
   "execution_count": 1,
   "metadata": {},
   "outputs": [],
   "source": [
    "# imports\n",
    "import pandas as pd\n",
    "from lxml import etree"
   ]
  },
  {
   "cell_type": "code",
   "execution_count": 2,
   "metadata": {},
   "outputs": [],
   "source": [
    "root = etree.parse('data/Noms des joueurs et IDs - F40 - L1 20162017.xml')"
   ]
  },
  {
   "cell_type": "code",
   "execution_count": 6,
   "metadata": {},
   "outputs": [],
   "source": [
    "liste = [\n",
    "    {'team': node_team.find(\"Name\").text,\n",
    "     'uID': node_player.attrib[\"uID\"],\n",
    "     'name': node_player.find(\"Name\").text,\n",
    "     'position': node_player.find(\"Position\").text,\n",
    "     node_info.attrib['Type']:node_info.text\n",
    "    \n",
    "       }\n",
    "        for node_team in root.getiterator(\"Team\")\n",
    "            for node_player in node_team.getiterator(\"Player\")\n",
    "                for node_info in node_player.getiterator(\"Stat\")\n",
    "]\n"
   ]
  },
  {
   "cell_type": "code",
   "execution_count": 7,
   "metadata": {},
   "outputs": [],
   "source": [
    "df=pd.DataFrame(liste)\n",
    "df=df.groupby('name').first().sort_values('team').reset_index() #combine rows with same name value"
   ]
  },
  {
   "cell_type": "code",
   "execution_count": 8,
   "metadata": {},
   "outputs": [
    {
     "data": {
      "text/plain": [
       "Index(['name', 'team', 'uID', 'position', 'first_name', 'last_name',\n",
       "       'birth_date', 'weight', 'height', 'jersey_num', 'real_position',\n",
       "       'real_position_side', 'join_date', 'country', 'birth_place',\n",
       "       'first_nationality', 'preferred_foot', 'known_name', 'middle_name',\n",
       "       'leave_date', 'new_team', 'deceased'],\n",
       "      dtype='object')"
      ]
     },
     "execution_count": 8,
     "metadata": {},
     "output_type": "execute_result"
    }
   ],
   "source": [
    "df.columns"
   ]
  },
  {
   "cell_type": "code",
   "execution_count": null,
   "metadata": {},
   "outputs": [],
   "source": []
  }
 ],
 "metadata": {
  "kernelspec": {
   "display_name": "Python 3",
   "language": "python",
   "name": "python3"
  },
  "language_info": {
   "codemirror_mode": {
    "name": "ipython",
    "version": 3
   },
   "file_extension": ".py",
   "mimetype": "text/x-python",
   "name": "python",
   "nbconvert_exporter": "python",
   "pygments_lexer": "ipython3",
   "version": "3.7.1"
  }
 },
 "nbformat": 4,
 "nbformat_minor": 4
}
